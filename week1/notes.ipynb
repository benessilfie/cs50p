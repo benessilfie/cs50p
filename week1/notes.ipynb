{
 "cells": [
  {
   "cell_type": "markdown",
   "metadata": {},
   "source": [
    "# Week1: Functions & Variables\n",
    "\n",
    "— _CS50’s Introduction to Programming with Python_\n"
   ]
  },
  {
   "cell_type": "markdown",
   "metadata": {},
   "source": [
    "##### hello.py"
   ]
  },
  {
   "cell_type": "code",
   "execution_count": null,
   "metadata": {},
   "outputs": [],
   "source": [
    "print(\"Hello, World!\")"
   ]
  },
  {
   "cell_type": "markdown",
   "metadata": {},
   "source": [
    "#### What really happens when we run hello.py\n",
    "\n",
    "When you run the file `hello.py`, the ending `.py` indicates that the file is a Python program. Your editor then runs the file through the Python interpreter, which reads through the program and determines what each word in the program means.\n"
   ]
  },
  {
   "cell_type": "markdown",
   "metadata": {},
   "source": [
    "### Variables"
   ]
  },
  {
   "cell_type": "code",
   "execution_count": null,
   "metadata": {},
   "outputs": [],
   "source": [
    "message = \"Hello, World!\"\n",
    "print(message)"
   ]
  },
  {
   "cell_type": "markdown",
   "metadata": {},
   "source": [
    "Variables are like boxes that we can put things in. We can put a number in a box, a string in a box, or even a list in a box. We can then refer to the box by a name, and the interpreter will know to look inside the box for the value. We can also change the value of the box at anytime, and the interpreter will know to update the value inside the box.\n",
    "\n",
    " In `hello.py`, the variable `message` is a box that stores a string, the value is the string `\"Hello, World!\"`.\n",
    "\n",
    " There are a couple of rules and guidelines for naming variables in python. They are implemented in the Python language itself and are called [PEP 8](https://www.python.org/dev/peps/pep-0008/).\n"
   ]
  },
  {
   "cell_type": "markdown",
   "metadata": {},
   "source": [
    "#### PEP 8\n",
    "\n",
    "`PEP 8` is a style guide for Python code. It is a set of rules that developers follow to make their code more readable and consistent. It is a good idea to follow `PEP 8` when writing your own code, but it is not required. Read more about it [here](https://www.python.org/dev/peps/pep-0008/).\n",
    "\n",
    "They help to make your code more readable and easier to understand. These guidelines also help you avoid errors in your code.\n",
    "\n",
    "- The first character of a variable name must be a letter or an underscore but not a number. The rest of the characters can be letters, numbers, or underscores. eg. `my_variable`\n",
    "\n",
    "- Variable names are case sensitive. `my_variable` and `My_Variable` are two different variables.\n",
    "\n",
    "- Variable names should be short but descriptive. `my_variable` is fine, but `my_variable_name_is_too_long` is not. Also `student_name` is better than `s_n`. It should both be short and descriptive.\n",
    "\n",
    "- Spaces are not allowed in naming variables because they might cause errors in your code. So in place of spaces, you can use underscores. eg. `my_variable`\n",
    "\n",
    "- You cannot use Python keywords and function names as variable names. eg. `for`, `if`, `else`"
   ]
  },
  {
   "cell_type": "markdown",
   "metadata": {},
   "source": [
    "#### What happens if you misspell a variable?\n",
    "\n",
    "When you misspell a variable, Python will tell you what went wrong by using a traceback.\n",
    "\n",
    "A _`traceback`_ is a record of where the interpreter ran into trouble when trying to execute your code. Here’s an example of the traceback that Python will provide should you accidentally misspell the variable `message` in the `hello_world.py` file.\n",
    "\n",
    "```Python\n",
    "Traceback (most recent call last):\n",
    "File \"hello_world.py\", line 2, in <module>\n",
    "print(mesage)\n",
    "NameError: name 'mesage' is not defined\n",
    "```\n",
    "\n",
    "> [!NOTE] Tracebacks are very helpful for debugging your code. They help avoid naming errors when using variables and give you a good idea of where your code is running into problems."
   ]
  },
  {
   "cell_type": "markdown",
   "metadata": {},
   "source": [
    "## Data Types\n",
    "\n",
    "### Strings\n",
    "\n",
    "A _string_ in python is simply a series of characters. Anything inside quotes is considered a string in python.\n",
    "\n",
    "```Python\n",
    "\"Hello, World!\"\n",
    "```\n",
    "\n",
    "There are various ways you can use strings in Python. You can change case in strings with methods like `.upper()` and `.lower()`. You can also use `.index()` to find the index of a character in a string. You can also use `.replace()` to replace a character or a substring in a string.\n",
    "\n",
    "One particularly useful method is `.split()`. It takes a string and splits it into a list of strings.\n",
    "\n",
    "The `.lower()` method takes a string and converts all the characters in the string to lowercase.\n",
    "\n",
    "```Python\n",
    "\"Hello, World!\".lower()\n",
    "\n",
    "#output: hello, world!\n",
    "```\n",
    "\n",
    "You can also combine strings with other strings. Say for example you want to store your first name and last name in separate variables, and then combine then in a single string. You can do this with the `+` symbol.\n"
   ]
  },
  {
   "cell_type": "code",
   "execution_count": null,
   "metadata": {},
   "outputs": [],
   "source": [
    "first_name = \"Essilfie\"\n",
    "last_name = \"Quansah\"\n",
    "full_name = first_name + \" \" + last_name\n",
    "print(full_name)\n",
    "\n",
    "# output: Essilfie Quansah"
   ]
  },
  {
   "cell_type": "markdown",
   "metadata": {},
   "source": [
    "Python uses the `+` symbol to combine strings. This method of combining strings is called concatenation.\n",
    "\n",
    "You can use concatenation to compose complete sentences using the strings stored in the variables you are combining.\n",
    "\n",
    "Example:"
   ]
  },
  {
   "cell_type": "code",
   "execution_count": null,
   "metadata": {},
   "outputs": [],
   "source": [
    "first_name = \"essilfie\"\n",
    "last_name = \"quansah\"\n",
    "full_name = first_name + \" \" + last_name\n",
    "\n",
    "print(\"Hello, \" + full_name.title() + \"!\")\n",
    "\n",
    "#output: Hello, Essilfie Quansah!"
   ]
  },
  {
   "cell_type": "markdown",
   "metadata": {},
   "source": [
    "In the example I used the `.title()` method to convert the first letter of each word to uppercase., otherwise the output would have been _`Hello, essilfie quansah!`_"
   ]
  },
  {
   "cell_type": "markdown",
   "metadata": {},
   "source": [
    "> ### **Whitespace**\n",
    "\n",
    "In programming, whitespace refers to any non-printing character, such as spaces, tabs, and end-of-line symbols. You usually use whitespace to organize your output so it’s easier for people to read.\n",
    "\n",
    "However extra whitespace can be confusing. For example the string `\"Ben\"` and `\"Ben \"` might look the same, but to a program, they are two different strings. Python detects extra space in a string and considers it significant unless told otherwise.\n",
    "\n",
    "One way to get around this is to use the `.strip()` method. This method removes any whitespace from the beginning or end of a string.\n"
   ]
  },
  {
   "cell_type": "code",
   "execution_count": null,
   "metadata": {},
   "outputs": [],
   "source": [
    "first_name = \" Ben \"\n",
    "print(first_name.strip())\n",
    "\n",
    "#output: Ben"
   ]
  },
  {
   "cell_type": "markdown",
   "metadata": {},
   "source": [
    "Using the `.strip()` method is a good way to get rid of extra whitespace, but it removes it extra space temporarily. To remove the extra space permanently, you will have to store the stripped string back into the variable."
   ]
  },
  {
   "cell_type": "code",
   "execution_count": null,
   "metadata": {},
   "outputs": [],
   "source": [
    "first_name = \" Ben \"\n",
    "first_name = first_name.strip()\n",
    "print(first_name)\n",
    "\n",
    "#output: Ben"
   ]
  },
  {
   "cell_type": "markdown",
   "metadata": {},
   "source": [
    "You can also remove whitespace from the beginning and end of a string using the `.lstrip()` and `.rstrip()` methods."
   ]
  },
  {
   "cell_type": "code",
   "execution_count": null,
   "metadata": {},
   "outputs": [],
   "source": [
    "first_name = \" Ben \"\n",
    "print(first_name.lstrip())\n",
    "\n",
    "#output: This removes the first space before Ben so output is `Ben `\n",
    "\n",
    "first_name = \" Ben \"\n",
    "print(first_name.rstrip())\n",
    "\n",
    "#output: This removes the last space after Ben so output is ` Ben`"
   ]
  },
  {
   "cell_type": "markdown",
   "metadata": {},
   "source": [
    "### Numbers\n",
    "\n",
    "Numbers in Python are either `integers` or `floats`. _Integers_ are whole numbers, and _floats_ are numbers with a decimal point."
   ]
  },
  {
   "cell_type": "markdown",
   "metadata": {},
   "source": [
    "##### calculator.py"
   ]
  },
  {
   "cell_type": "code",
   "execution_count": null,
   "metadata": {},
   "outputs": [],
   "source": [
    "x = float(input(\"What is x? \"))\n",
    "y = float(input(\"What is y? \"))\n",
    "\n",
    "# Add x and y and round it to 2 decimal places\n",
    "z = round(x + y, 2)\n",
    "\n",
    "# Adding commas to separate numbers after every 3 zeros\n",
    "print(f\"{z:,}\")"
   ]
  },
  {
   "cell_type": "markdown",
   "metadata": {},
   "source": [
    "Suppose you didn't know how to use Python's built-in `round` function, you could use a format string to round a number to two decimal places:"
   ]
  },
  {
   "cell_type": "code",
   "execution_count": null,
   "metadata": {},
   "outputs": [],
   "source": [
    "print(f\"{x:.2f}\")"
   ]
  },
  {
   "cell_type": "markdown",
   "metadata": {},
   "source": [
    "> **Read more on python's [formatted string literals](https://docs.python.org/3/reference/lexical_analysis.html#f-strings).**"
   ]
  },
  {
   "cell_type": "markdown",
   "metadata": {},
   "source": [
    "## Functions\n",
    "\n",
    "A function is a block of code that performs a specific task. Functions are useful because they allow you to reuse code. You can define a function once and then call it multiple times. Functions are defined using the `def` keyword. For example, the following function prints the string _`\"Hello, world!\"`_.\n"
   ]
  },
  {
   "cell_type": "code",
   "execution_count": 5,
   "metadata": {},
   "outputs": [
    {
     "name": "stdout",
     "output_type": "stream",
     "text": [
      "Hello, world!\n"
     ]
    }
   ],
   "source": [
    "# Define a function\n",
    "def hello():\n",
    "    print(\"Hello, world!\")\n",
    "\n",
    "# Call the function\n",
    "hello()"
   ]
  },
  {
   "cell_type": "code",
   "execution_count": 5,
   "metadata": {},
   "outputs": [
    {
     "name": "stdout",
     "output_type": "stream",
     "text": [
      "Hello, world!\n"
     ]
    }
   ],
   "source": [
    "# Define a function\n",
    "def hello():\n",
    "    print(\"Hello, world!\")\n",
    "\n",
    "# Call the function\n",
    "hello()"
   ]
  },
  {
   "cell_type": "code",
   "execution_count": null,
   "metadata": {},
   "outputs": [],
   "source": [
    "def main():\n",
    "    name = input(\"What is your name? \")\n",
    "    hello(name)\n",
    "\n",
    "def hello(to=\"world\"):\n",
    "    print(f\"Hello, {to}!\")\n",
    "\n",
    "if __name__ == \"__main__\":\n",
    "    main()"
   ]
  },
  {
   "cell_type": "markdown",
   "metadata": {},
   "source": [
    "in the example above, the function is called main. The main function is a special function that is called when you run the program. You can also call functions from other functions. For example, the `main` function calls the `hello` function.\n",
    "\n",
    "### Passing Arguments\n",
    "\n",
    "functions can accept arguments. Arguments are values that are passed to the function when it is called. Arguments are specified after the function name, inside the parentheses. You can add as many arguments as you want, just separate them with a comma.\n",
    "\n",
    "in the example above, the `hello` function accepts a single argument, `to` with a default value of `\"World\"`. The `hello` function prints the string `\"Hello, {to}!\"` where `{to}` is replaced with the value of the `to` argument that will be passed to the function when it is called. The `to` argument is optional, so if no value is passed to the function, the default value `\"World\"` will be used."
   ]
  },
  {
   "cell_type": "markdown",
   "metadata": {},
   "source": [
    "##### if __name__ == \"__main__\":\n",
    "\n",
    "The `if __name__ == \"__main__\":` statement is used to run some code only if this file is executed as the main program. It's not necessary for simple programs, but it's a good idea to use it if you're going to import the file as a module in another program.\n",
    "\n",
    "It helps to organize your code into files and functions. You can put related code into functions and then call those functions from other parts of your program. This makes your code easier to read and understand."
   ]
  },
  {
   "cell_type": "code",
   "execution_count": null,
   "metadata": {},
   "outputs": [],
   "source": [
    "def main():\n",
    "    x = int(input(\"What is x? \"))\n",
    "    print(f\"x squared is {square(x)}\")\n",
    "\n",
    "def square(n):\n",
    "    return n ** 2\n",
    "\n",
    "if __name__ == \"__main__\":\n",
    "    main()"
   ]
  }
 ],
 "metadata": {
  "kernelspec": {
   "display_name": "Python 3.10.6 64-bit",
   "language": "python",
   "name": "python3"
  },
  "language_info": {
   "codemirror_mode": {
    "name": "ipython",
    "version": 3
   },
   "file_extension": ".py",
   "mimetype": "text/x-python",
   "name": "python",
   "nbconvert_exporter": "python",
   "pygments_lexer": "ipython3",
   "version": "3.10.6"
  },
  "orig_nbformat": 4,
  "vscode": {
   "interpreter": {
    "hash": "916dbcbb3f70747c44a77c7bcd40155683ae19c65e1c03b4aa3499c5328201f1"
   }
  }
 },
 "nbformat": 4,
 "nbformat_minor": 2
}
