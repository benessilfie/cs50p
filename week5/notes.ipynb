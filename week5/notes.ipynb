{
 "cells": [
  {
   "cell_type": "markdown",
   "metadata": {},
   "source": [
    "# Week5: Unit Tests\n",
    "\n",
    "— _CS50’s Introduction to Programming with Python_\n"
   ]
  },
  {
   "cell_type": "markdown",
   "metadata": {},
   "source": [
    "### Testing calculator.py"
   ]
  },
  {
   "cell_type": "markdown",
   "metadata": {},
   "source": [
    "##### calculator.py"
   ]
  },
  {
   "cell_type": "code",
   "execution_count": null,
   "metadata": {},
   "outputs": [],
   "source": [
    "def main():\n",
    "    x = int(input(\"What is the value of x? \"))\n",
    "    print(\"X squared is\", square(x))\n",
    "\n",
    "def square(n):\n",
    "    return n * n\n",
    "\n",
    "if __name__ == \"__main__\":\n",
    "    main()"
   ]
  },
  {
   "cell_type": "markdown",
   "metadata": {},
   "source": [
    "##### test_calculator.py"
   ]
  },
  {
   "cell_type": "code",
   "execution_count": 3,
   "metadata": {},
   "outputs": [],
   "source": [
    "from calculator import square\n",
    "\n",
    "def main():\n",
    "    test_square()\n",
    "\n",
    "def test_square():\n",
    "    if square(2) != 4:\n",
    "        print(\"2 squared was not 4\")\n",
    "    if square(3) != 9:\n",
    "        print(\"3 squared was not 9\")\n",
    "    \n",
    "if __name__ == \"__main__\":\n",
    "    main()"
   ]
  },
  {
   "cell_type": "code",
   "execution_count": 4,
   "metadata": {},
   "outputs": [],
   "source": [
    "from calculator import square\n",
    "\n",
    "def main():\n",
    "    test_square()\n",
    "\n",
    "def test_square():\n",
    "    assert square(2) == 4\n",
    "    assert square(3) == 9\n",
    "    \n",
    "if __name__ == \"__main__\":\n",
    "    main()"
   ]
  },
  {
   "cell_type": "code",
   "execution_count": null,
   "metadata": {},
   "outputs": [],
   "source": [
    "from calculator import square\n",
    "\n",
    "def main():\n",
    "    test_square()\n",
    "\n",
    "def test_square():\n",
    "    try:\n",
    "        assert square(2) == 4\n",
    "    except AssertionError:\n",
    "        print(\"2 squared was not 4\")\n",
    "    try:\n",
    "        assert square(3) == 9\n",
    "    except AssertionError:\n",
    "        print(\"3 squared was not 9\")\n",
    "    try:\n",
    "        assert square(-2) == 4\n",
    "    except AssertionError:\n",
    "        print(\"-2 squared was not 4\")\n",
    "    try:\n",
    "        assert square(-3) == 9\n",
    "    except AssertionError:\n",
    "        print(\"-3 squared was not 9\")\n",
    "    try:\n",
    "        assert square(0) == 0\n",
    "    except AssertionError:\n",
    "        print(\"0 squared was not 0\")\n",
    "    \n",
    "if __name__ == \"__main__\":\n",
    "    main()"
   ]
  },
  {
   "cell_type": "markdown",
   "metadata": {},
   "source": [
    "### Using Pytest"
   ]
  },
  {
   "cell_type": "code",
   "execution_count": null,
   "metadata": {},
   "outputs": [],
   "source": [
    "from calculator import square\n",
    "\n",
    "def test_square():\n",
    "    assert square(2) == 4\n",
    "    assert square(3) == 9\n",
    "    assert square(-2) == 4\n",
    "    assert square(-3) == 9\n",
    "    assert square(0) == 0"
   ]
  },
  {
   "cell_type": "code",
   "execution_count": null,
   "metadata": {},
   "outputs": [],
   "source": [
    "from calculator import square\n",
    "\n",
    "def test_positive():\n",
    "    assert square(2) == 4\n",
    "    assert square(3) == 9\n",
    "\n",
    "def test_negative():\n",
    "    assert square(-2) == 4\n",
    "    assert square(-3) == 9\n",
    "\n",
    "def test_zero():\n",
    "    assert square(0) == 0"
   ]
  },
  {
   "cell_type": "code",
   "execution_count": null,
   "metadata": {},
   "outputs": [],
   "source": [
    "import pytest\n",
    "from calculator import square\n",
    "\n",
    "def test_positive():\n",
    "    assert square(2) == 4\n",
    "    assert square(3) == 9\n",
    "\n",
    "def test_negative():\n",
    "    assert square(-2) == 4\n",
    "    assert square(-3) == 9\n",
    "\n",
    "def test_zero():\n",
    "    assert square(0) == 0\n",
    "\n",
    "def test_str():\n",
    "    with pytest.raises(TypeError):\n",
    "        square(\"cat\")"
   ]
  },
  {
   "cell_type": "markdown",
   "metadata": {},
   "source": [
    "### Testing hello.py"
   ]
  },
  {
   "cell_type": "markdown",
   "metadata": {},
   "source": [
    "##### hello.py"
   ]
  },
  {
   "cell_type": "code",
   "execution_count": null,
   "metadata": {},
   "outputs": [],
   "source": [
    "def main():\n",
    "    name = input(\"What is your name? \")\n",
    "    hello(name)\n",
    "\n",
    "def hello(to=\"World\"):\n",
    "    print(f\"Hello, {to}!\")\n",
    "\n",
    "if __name__ == \"__main__\":\n",
    "    main()"
   ]
  },
  {
   "cell_type": "markdown",
   "metadata": {},
   "source": [
    "##### test_hello.py"
   ]
  },
  {
   "cell_type": "code",
   "execution_count": null,
   "metadata": {},
   "outputs": [],
   "source": [
    "from hello import hello\n",
    "\n",
    "def test_hello():\n",
    "    hello(\"David\") == \"Hello, David!\""
   ]
  },
  {
   "cell_type": "markdown",
   "metadata": {},
   "source": [
    "The test above will return an error because the function `hello` doesn't return a value, it simply prints a string. We can fix this by adding a `return` statement to the function."
   ]
  },
  {
   "cell_type": "markdown",
   "metadata": {},
   "source": [
    "##### hello.py"
   ]
  },
  {
   "cell_type": "code",
   "execution_count": null,
   "metadata": {},
   "outputs": [],
   "source": [
    "def main():\n",
    "    name = input(\"What is your name? \")\n",
    "    print(hello(name))\n",
    "\n",
    "def hello(to=\"World\"):\n",
    "    return f\"Hello, {to}!\"\n",
    "\n",
    "if __name__ == \"__main__\":\n",
    "    main()"
   ]
  },
  {
   "cell_type": "markdown",
   "metadata": {},
   "source": [
    "##### test_hello.py"
   ]
  },
  {
   "cell_type": "code",
   "execution_count": null,
   "metadata": {},
   "outputs": [],
   "source": [
    "from hello import hello\n",
    "\n",
    "def test_hello():\n",
    "    hello(\"David\") == \"Hello, David!\"\n",
    "    hello() == \"Hello, World!\""
   ]
  },
  {
   "cell_type": "code",
   "execution_count": null,
   "metadata": {},
   "outputs": [],
   "source": [
    "from hello import hello\n",
    "\n",
    "def test_default():\n",
    "    hello() == \"Hello, World!\"\n",
    "\n",
    "def test_argument():\n",
    "    hello(\"David\") == \"Hello, David!\""
   ]
  },
  {
   "cell_type": "markdown",
   "metadata": {},
   "source": [
    "### Using a for loop"
   ]
  },
  {
   "cell_type": "code",
   "execution_count": null,
   "metadata": {},
   "outputs": [],
   "source": [
    "from hello import hello\n",
    "\n",
    "def test_default():\n",
    "    hello() == \"Hello, World!\"\n",
    "\n",
    "def test_argument():\n",
    "    for name in [\"Hermione\", \"Harry\", \"Ron\"]:\n",
    "        assert hello(name) == f\"Hello, {name}!\""
   ]
  }
 ],
 "metadata": {
  "kernelspec": {
   "display_name": "Python 3.10.6 64-bit",
   "language": "python",
   "name": "python3"
  },
  "language_info": {
   "codemirror_mode": {
    "name": "ipython",
    "version": 3
   },
   "file_extension": ".py",
   "mimetype": "text/x-python",
   "name": "python",
   "nbconvert_exporter": "python",
   "pygments_lexer": "ipython3",
   "version": "3.10.6"
  },
  "orig_nbformat": 4,
  "vscode": {
   "interpreter": {
    "hash": "916dbcbb3f70747c44a77c7bcd40155683ae19c65e1c03b4aa3499c5328201f1"
   }
  }
 },
 "nbformat": 4,
 "nbformat_minor": 2
}
