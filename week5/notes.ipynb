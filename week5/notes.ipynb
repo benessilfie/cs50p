{
 "cells": [
  {
   "cell_type": "markdown",
   "metadata": {},
   "source": [
    "# Week5: Libraries\n",
    "\n",
    "— _CS50’s Introduction to Programming with Python_\n"
   ]
  },
  {
   "cell_type": "markdown",
   "metadata": {},
   "source": [
    "##### generate.py"
   ]
  },
  {
   "cell_type": "markdown",
   "metadata": {},
   "source": [
    "The `import` keyword allows us to import a module into our program. Modules are just Python files that contain functions and variables that we can use in our program. We can import modules that we have written ourselves, or modules that are part of the Python standard library, or modules that are installed separately using a package manager like `pip`.\n",
    "\n",
    "> _Read more about modules in the [Python documentation](https://docs.python.org/3/tutorial/modules.html)._"
   ]
  },
  {
   "cell_type": "code",
   "execution_count": 30,
   "metadata": {},
   "outputs": [
    {
     "name": "stdout",
     "output_type": "stream",
     "text": [
      "heads\n"
     ]
    }
   ],
   "source": [
    "import random\n",
    "\n",
    "coin = random.choice([\"heads\", \"tails\"])\n",
    "print(coin)"
   ]
  },
  {
   "cell_type": "markdown",
   "metadata": {},
   "source": [
    "`from` is a keyword that allows us to import a module. But it allows us to import a specific function from a module. For example, we can import the `choice` function from the `random` module."
   ]
  },
  {
   "cell_type": "code",
   "execution_count": 36,
   "metadata": {},
   "outputs": [
    {
     "name": "stdout",
     "output_type": "stream",
     "text": [
      "tails\n"
     ]
    }
   ],
   "source": [
    "from random import choice\n",
    "\n",
    "coin = choice([\"heads\", \"tails\"])\n",
    "print(coin)"
   ]
  },
  {
   "cell_type": "code",
   "execution_count": 39,
   "metadata": {},
   "outputs": [
    {
     "name": "stdout",
     "output_type": "stream",
     "text": [
      "5\n"
     ]
    }
   ],
   "source": [
    "from random import randint\n",
    "\n",
    "coin = randint(1, 10)\n",
    "print(coin)"
   ]
  },
  {
   "cell_type": "code",
   "execution_count": null,
   "metadata": {},
   "outputs": [],
   "source": [
    "import random\n",
    "\n",
    "cards = [\"jack\", \"queen\", \"king\", \"ace\"]\n",
    "random.shuffle(cards)\n",
    "\n",
    "for card in cards:\n",
    "    print(card)"
   ]
  },
  {
   "cell_type": "markdown",
   "metadata": {},
   "source": [
    "##### average.py"
   ]
  },
  {
   "cell_type": "code",
   "execution_count": 47,
   "metadata": {},
   "outputs": [
    {
     "data": {
      "text/plain": [
       "95"
      ]
     },
     "execution_count": 47,
     "metadata": {},
     "output_type": "execute_result"
    }
   ],
   "source": [
    "import statistics as stats\n",
    "\n",
    "stats.mean([100, 90])"
   ]
  },
  {
   "cell_type": "markdown",
   "metadata": {},
   "source": [
    "### Command-line arguments"
   ]
  },
  {
   "cell_type": "markdown",
   "metadata": {},
   "source": [
    "Command-line arguments are arguments that are passed to a program when it is run. For example, if we run the following command:\n",
    "\n",
    "```bash\n",
    "$ python hello.py Kwesi\n",
    "```\n",
    "\n",
    "then `Kwesi` is a command-line argument. We can access command-line arguments using the `sys` module. The `sys` module is part of the Python standard library, so we don’t need to install it. We can access the command-line arguments using the `argv` variable in the `sys` module. `argv` is a list of strings, where the first element is the name of the program, and the rest of the elements are the command-line arguments."
   ]
  },
  {
   "cell_type": "markdown",
   "metadata": {},
   "source": [
    "##### name.py"
   ]
  },
  {
   "cell_type": "code",
   "execution_count": null,
   "metadata": {},
   "outputs": [],
   "source": [
    "import sys\n",
    "\n",
    "try:\n",
    "    print(\"Hello, my name is\", sys.argv[1])\n",
    "except IndexError:\n",
    "    print(\"Too few arguments\")"
   ]
  },
  {
   "cell_type": "markdown",
   "metadata": {},
   "source": [
    "`argv`, it stands for argument vector. It’s a list of all the words that you type after the name of the program. So, if you type `python name.py Kwesi`, then `argv` will be a list that contains two strings: the name of the program, and the name `Kwesi`."
   ]
  },
  {
   "cell_type": "code",
   "execution_count": null,
   "metadata": {},
   "outputs": [],
   "source": [
    "import sys\n",
    "\n",
    "if len(sys.argv) < 2:\n",
    "    print(\"Too few arguments\")\n",
    "elif len(sys.argv) > 2:\n",
    "    print(\"Too many arguments\")\n",
    "else:\n",
    "    print(\"Hello, my name is\", sys.argv[1])"
   ]
  },
  {
   "cell_type": "code",
   "execution_count": null,
   "metadata": {},
   "outputs": [],
   "source": [
    "import sys\n",
    "\n",
    "if len(sys.argv) < 2:\n",
    "    print(\"Too few arguments\")\n",
    "elif len(sys.argv) > 2:\n",
    "    print(\"Too many arguments\")\n",
    "\n",
    "print(\"Hello, my name is\", sys.argv[1])"
   ]
  },
  {
   "cell_type": "markdown",
   "metadata": {},
   "source": [
    "The code above will throw an indexError: list index out of range"
   ]
  },
  {
   "cell_type": "code",
   "execution_count": null,
   "metadata": {},
   "outputs": [],
   "source": [
    "import sys\n",
    "\n",
    "if len(sys.argv) < 2:\n",
    "    sys.exit(\"Too few arguments\")\n",
    "elif len(sys.argv) > 2:\n",
    "    sys.exit(\"Too many arguments\")\n",
    "\n",
    "print(\"Hello, my name is\", sys.argv[1])"
   ]
  }
 ],
 "metadata": {
  "kernelspec": {
   "display_name": "Python 3.10.6 64-bit",
   "language": "python",
   "name": "python3"
  },
  "language_info": {
   "codemirror_mode": {
    "name": "ipython",
    "version": 3
   },
   "file_extension": ".py",
   "mimetype": "text/x-python",
   "name": "python",
   "nbconvert_exporter": "python",
   "pygments_lexer": "ipython3",
   "version": "3.10.6"
  },
  "orig_nbformat": 4,
  "vscode": {
   "interpreter": {
    "hash": "916dbcbb3f70747c44a77c7bcd40155683ae19c65e1c03b4aa3499c5328201f1"
   }
  }
 },
 "nbformat": 4,
 "nbformat_minor": 2
}
