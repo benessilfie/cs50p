{
 "cells": [
  {
   "cell_type": "markdown",
   "metadata": {},
   "source": [
    "# Week2: Loops, Lists & Dictionaries\n",
    "\n",
    "— _CS50’s Introduction to Programming with Python_\n"
   ]
  },
  {
   "cell_type": "markdown",
   "metadata": {},
   "source": [
    "##### cat.py"
   ]
  },
  {
   "cell_type": "code",
   "execution_count": null,
   "metadata": {},
   "outputs": [],
   "source": [
    "i = 3\n",
    "\n",
    "while i != 0:\n",
    "    print(\"meow\")\n",
    "    i -= 1"
   ]
  },
  {
   "cell_type": "code",
   "execution_count": null,
   "metadata": {},
   "outputs": [],
   "source": [
    "for _ in range(3):\n",
    "    print(\"meow\")"
   ]
  },
  {
   "cell_type": "code",
   "execution_count": null,
   "metadata": {},
   "outputs": [],
   "source": [
    "print(\"meow\\n\" * 3, end=\"\")"
   ]
  },
  {
   "cell_type": "code",
   "execution_count": 29,
   "metadata": {},
   "outputs": [
    {
     "name": "stdout",
     "output_type": "stream",
     "text": [
      "meow\n"
     ]
    }
   ],
   "source": [
    "while True:\n",
    "    n = int(input(\"Enter a number: \"))\n",
    "    if n > 0:\n",
    "        break\n",
    "\n",
    "for _ in range(n):\n",
    "    print(\"meow\")"
   ]
  },
  {
   "cell_type": "code",
   "execution_count": 34,
   "metadata": {},
   "outputs": [
    {
     "name": "stdout",
     "output_type": "stream",
     "text": [
      "meow\n"
     ]
    }
   ],
   "source": [
    "def main():\n",
    "    number = get_number()\n",
    "    meow(number)\n",
    "\n",
    "def get_number():\n",
    "    while True:\n",
    "        n = int(input(\"Enter a number: \"))\n",
    "        if n > 0:\n",
    "            return n\n",
    "\n",
    "def meow(n):\n",
    "    for _ in range(n):\n",
    "        print(\"meow\")\n",
    "\n",
    "if __name__ == \"__main__\":\n",
    "    main()"
   ]
  },
  {
   "cell_type": "markdown",
   "metadata": {},
   "source": [
    "### Lists\n",
    "\n",
    "*   A list is a sequence of values.\n",
    "*   Lists are enclosed in square brackets (`[]`).\n",
    "*   Values in a list are separated by commas.\n",
    "*   Lists can contain any type of value.\n",
    "\n",
    "> _Read more about lists in the [Python documentation](https://docs.python.org/3/tutorial/datastructures.html#more-on-lists)._"
   ]
  },
  {
   "cell_type": "code",
   "execution_count": 36,
   "metadata": {},
   "outputs": [
    {
     "name": "stdout",
     "output_type": "stream",
     "text": [
      "Hermione\n",
      "Harry\n"
     ]
    },
    {
     "ename": "IndexError",
     "evalue": "list index out of range",
     "output_type": "error",
     "traceback": [
      "\u001b[0;31m---------------------------------------------------------------------------\u001b[0m",
      "\u001b[0;31mIndexError\u001b[0m                                Traceback (most recent call last)",
      "Cell \u001b[0;32mIn [36], line 5\u001b[0m\n\u001b[1;32m      3\u001b[0m \u001b[39mprint\u001b[39m(students[\u001b[39m0\u001b[39m])\n\u001b[1;32m      4\u001b[0m \u001b[39mprint\u001b[39m(students[\u001b[39m1\u001b[39m])\n\u001b[0;32m----> 5\u001b[0m \u001b[39mprint\u001b[39m(students[\u001b[39m3\u001b[39;49m])\n",
      "\u001b[0;31mIndexError\u001b[0m: list index out of range"
     ]
    }
   ],
   "source": [
    "students = [\"Hermione\", \"Harry\", \"Ron\"]\n",
    "\n",
    "print(students[0])\n",
    "print(students[1])\n",
    "print(students[3]) # IndexError"
   ]
  },
  {
   "cell_type": "code",
   "execution_count": null,
   "metadata": {},
   "outputs": [],
   "source": [
    "students = [\"Hermione\", \"Harry\", \"Ron\"]\n",
    "\n",
    "for student in students:\n",
    "    print(student)"
   ]
  },
  {
   "cell_type": "markdown",
   "metadata": {},
   "source": [
    "> _Read more about for loops in the [Python documentation](https://docs.python.org/3/tutorial/controlflow.html#for-statements)._\n",
    "\n",
    "> _Range is a built-in function that creates a list of integers. Range expects an integer as an argument and returns a list of integers from 0 to one less than the argument. For example, `range(5)` returns the list `[0, 1, 2, 3, 4]`. Read more about range [here](https://docs.python.org/3/library/stdtypes.html#range)._"
   ]
  },
  {
   "cell_type": "code",
   "execution_count": 40,
   "metadata": {},
   "outputs": [
    {
     "name": "stdout",
     "output_type": "stream",
     "text": [
      "1. Hermione\n",
      "2. Harry\n",
      "3. Ron\n"
     ]
    }
   ],
   "source": [
    "students = [\"Hermione\", \"Harry\", \"Ron\"]\n",
    "\n",
    "for i in range(len(students)):\n",
    "    print(i + 1, students[i], sep=\". \")"
   ]
  },
  {
   "cell_type": "markdown",
   "metadata": {},
   "source": [
    "### Dictionary (dict)\n",
    "\n",
    "*   A dictionary is a collection of key-value pairs.\n",
    "*   Dictionaries are enclosed in curly braces (`{}`).\n",
    "*   Each key-value pair is separated by a comma.\n",
    "*   Each key is followed by a colon (`:`).\n",
    "*   Keys and values can be any type.\n",
    "\n",
    "> _Read more about dictionaries in the [Python documentation](https://docs.python.org/3/tutorial/datastructures.html#dictionaries)._"
   ]
  },
  {
   "cell_type": "code",
   "execution_count": null,
   "metadata": {},
   "outputs": [],
   "source": [
    "students = {} # This is an empty dictionary"
   ]
  },
  {
   "cell_type": "code",
   "execution_count": 41,
   "metadata": {},
   "outputs": [
    {
     "name": "stdout",
     "output_type": "stream",
     "text": [
      "Gryffindor\n"
     ]
    }
   ],
   "source": [
    "students = {\n",
    "    \"Hermione\": \"Gryffindor\",\n",
    "    \"Harry\": \"Gryffindor\",\n",
    "    \"Ron\": \"Gryffindor\",\n",
    "    \"Draco\": \"Slytherin\"\n",
    "}\n",
    "\n",
    "# If I want to print out the house of each student\n",
    "print(students[\"Hermione\"]) # Gryffindor\n",
    "print(students[\"Hagrid\"]) # KeyError\n",
    "print(students[\"Harry\"]) # Gryffindor\n",
    "print(students[\"Ron\"]) # Gryffindor\n",
    "print(students[\"Draco\"]) # Slytherin"
   ]
  },
  {
   "cell_type": "code",
   "execution_count": 42,
   "metadata": {},
   "outputs": [
    {
     "name": "stdout",
     "output_type": "stream",
     "text": [
      "Hermione\n",
      "Harry\n",
      "Ron\n",
      "Draco\n"
     ]
    }
   ],
   "source": [
    "students = {\n",
    "    \"Hermione\": \"Gryffindor\",\n",
    "    \"Harry\": \"Gryffindor\",\n",
    "    \"Ron\": \"Gryffindor\",\n",
    "    \"Draco\": \"Slytherin\"\n",
    "}\n",
    "\n",
    "for student in students:\n",
    "    print(student)"
   ]
  },
  {
   "cell_type": "markdown",
   "metadata": {},
   "source": [
    "> _When you use a for loop to iterate over a dictionary, by design the loop variable is assigned the key of each key-value pair._"
   ]
  },
  {
   "cell_type": "code",
   "execution_count": 44,
   "metadata": {},
   "outputs": [
    {
     "name": "stdout",
     "output_type": "stream",
     "text": [
      "Hermione is in Gryffindor\n",
      "Harry is in Gryffindor\n",
      "Ron is in Gryffindor\n",
      "Draco is in Slytherin\n"
     ]
    }
   ],
   "source": [
    "students = {\n",
    "    \"Hermione\": \"Gryffindor\",\n",
    "    \"Harry\": \"Gryffindor\",\n",
    "    \"Ron\": \"Gryffindor\",\n",
    "    \"Draco\": \"Slytherin\"\n",
    "}\n",
    "\n",
    "for student in students:\n",
    "    print(student, students[student], sep=\" is in \")"
   ]
  },
  {
   "cell_type": "code",
   "execution_count": 57,
   "metadata": {},
   "outputs": [
    {
     "name": "stdout",
     "output_type": "stream",
     "text": [
      "Hermione is in Gryffindor and has a Otter patronus\n",
      "Harry is in Gryffindor and has a Stag patronus\n",
      "Ron is in Gryffindor and has a Jack Russell Terrier patronus\n",
      "Draco is in Slytherin and has a None patronus\n"
     ]
    }
   ],
   "source": [
    "students = [\n",
    "    {\n",
    "        \"name\": \"Hermione\",\n",
    "        \"house\": \"Gryffindor\",\n",
    "        \"patronus\": \"Otter\"\n",
    "    },\n",
    "    {\n",
    "        \"name\": \"Harry\",\n",
    "        \"house\": \"Gryffindor\",\n",
    "        \"patronus\": \"Stag\"\n",
    "    },\n",
    "    {\n",
    "        \"name\": \"Ron\",\n",
    "        \"house\": \"Gryffindor\",\n",
    "        \"patronus\": \"Jack Russell Terrier\"\n",
    "    },\n",
    "    {\n",
    "        \"name\": \"Draco\",\n",
    "        \"house\": \"Slytherin\",\n",
    "        \"patronus\": None\n",
    "    }\n",
    "]\n",
    "\n",
    "for student in students:\n",
    "        # print hermione is in Gryffindor and has an otter patronus using a format string literal\n",
    "        print(f\"{student['name']} is in {student['house']} and has a {student['patronus']} patronus\")"
   ]
  },
  {
   "cell_type": "markdown",
   "metadata": {},
   "source": [
    "> _The `None` keyword represents the absence of a value. It is not the same as the string `\"None\"` or the number `0`._"
   ]
  },
  {
   "cell_type": "markdown",
   "metadata": {},
   "source": [
    "##### mario.py"
   ]
  },
  {
   "cell_type": "code",
   "execution_count": null,
   "metadata": {},
   "outputs": [],
   "source": [
    "def main():\n",
    "    print_column(3)\n",
    "\n",
    "def print_column(height):\n",
    "    print(\"#\\n\" * height, end=\"\")\n",
    "\n",
    "if __name__ == \"__main__\":\n",
    "    main()"
   ]
  },
  {
   "cell_type": "code",
   "execution_count": 67,
   "metadata": {},
   "outputs": [
    {
     "name": "stdout",
     "output_type": "stream",
     "text": [
      "###\n"
     ]
    }
   ],
   "source": [
    "def main():\n",
    "    print_row(3)\n",
    "\n",
    "def print_row(width):\n",
    "    print(\"#\" * width)\n",
    "\n",
    "if __name__ == \"__main__\":\n",
    "    main()"
   ]
  },
  {
   "cell_type": "code",
   "execution_count": 127,
   "metadata": {},
   "outputs": [
    {
     "name": "stdout",
     "output_type": "stream",
     "text": [
      "...###\n",
      "...###\n",
      "...###\n"
     ]
    }
   ],
   "source": [
    "def main():\n",
    "    print_square(3)\n",
    "\n",
    "def print_square(size):\n",
    "\n",
    "    # For each row in the square\n",
    "    for i in range(size):\n",
    "        print(\".\" * size, end=\"\")\n",
    "\n",
    "        # For each column in the square\n",
    "        for j in range(size):\n",
    "\n",
    "            # Print brick\n",
    "            print(\"#\", end=\"\")\n",
    "        print()\n",
    "    \n",
    "\n",
    "if __name__ == \"__main__\":\n",
    "    main()"
   ]
  }
 ],
 "metadata": {
  "kernelspec": {
   "display_name": "Python 3.10.6 64-bit",
   "language": "python",
   "name": "python3"
  },
  "language_info": {
   "codemirror_mode": {
    "name": "ipython",
    "version": 3
   },
   "file_extension": ".py",
   "mimetype": "text/x-python",
   "name": "python",
   "nbconvert_exporter": "python",
   "pygments_lexer": "ipython3",
   "version": "3.10.6"
  },
  "orig_nbformat": 4,
  "vscode": {
   "interpreter": {
    "hash": "916dbcbb3f70747c44a77c7bcd40155683ae19c65e1c03b4aa3499c5328201f1"
   }
  }
 },
 "nbformat": 4,
 "nbformat_minor": 2
}
