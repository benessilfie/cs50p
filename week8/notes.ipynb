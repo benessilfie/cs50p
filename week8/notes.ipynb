{
 "cells": [
  {
   "cell_type": "markdown",
   "metadata": {},
   "source": [
    "# Week8: Regular Expressions\n",
    "\n",
    "— _CS50’s Introduction to Programming with Python_"
   ]
  },
  {
   "cell_type": "markdown",
   "metadata": {},
   "source": [
    "### Regular Expressions\n",
    "\n",
    "Regular expressions are a powerful tool for matching patterns in text. They are a domain-specific language for describing patterns in text. Regular expressions are a language unto themselves, and they are not specific to Python. They are used in many programming languages, and in many applications.\n",
    "\n",
    "They are used in text editors, word processors, and other applications to find and replace text, in compilers and interpreters to find and replace patterns in source code and in search engines to find and replace patterns in web pages. "
   ]
  },
  {
   "cell_type": "markdown",
   "metadata": {},
   "source": [
    "They are also used to validate user input such as email addresses, phone numbers, and credit card numbers. As well as to parse text, and to extract information from text."
   ]
  },
  {
   "cell_type": "markdown",
   "metadata": {},
   "source": [
    "##### validate.py"
   ]
  },
  {
   "cell_type": "code",
   "execution_count": 1,
   "metadata": {},
   "outputs": [
    {
     "name": "stdout",
     "output_type": "stream",
     "text": [
      "Your email is valid\n"
     ]
    }
   ],
   "source": [
    "email = input(\"Enter your email: \").strip()\n",
    "\n",
    "if \"@\" in email:\n",
    "    print(\"Your email is valid\")\n",
    "else:\n",
    "    print(\"Your email is invalid\")"
   ]
  },
  {
   "cell_type": "code",
   "execution_count": 2,
   "metadata": {},
   "outputs": [
    {
     "name": "stdout",
     "output_type": "stream",
     "text": [
      "Your email is valid\n"
     ]
    }
   ],
   "source": [
    "email = input(\"Enter your email: \").strip()\n",
    "\n",
    "if \"@\" and \".\" in email:\n",
    "    print(\"Your email is valid\")\n",
    "else:\n",
    "    print(\"Your email is invalid\")"
   ]
  },
  {
   "cell_type": "code",
   "execution_count": null,
   "metadata": {},
   "outputs": [],
   "source": [
    "email = input(\"Enter your email: \").strip()\n",
    "\n",
    "username, domain = email.split(\"@\")\n",
    "\n",
    "if username and \".\" in domain:\n",
    "    print(\"Your email is valid\")\n",
    "else:\n",
    "    print(\"Your email is invalid\")"
   ]
  },
  {
   "cell_type": "code",
   "execution_count": null,
   "metadata": {},
   "outputs": [],
   "source": [
    "email = input(\"Enter your email: \").strip()\n",
    "\n",
    "username, domain = email.split(\"@\")\n",
    "\n",
    "if username and domain.endswith(\".edu\"):\n",
    "    print(\"Your email is valid\")\n",
    "else:\n",
    "    print(\"Your email is invalid\")"
   ]
  }
 ],
 "metadata": {
  "kernelspec": {
   "display_name": "Python 3.10.6 64-bit",
   "language": "python",
   "name": "python3"
  },
  "language_info": {
   "codemirror_mode": {
    "name": "ipython",
    "version": 3
   },
   "file_extension": ".py",
   "mimetype": "text/x-python",
   "name": "python",
   "nbconvert_exporter": "python",
   "pygments_lexer": "ipython3",
   "version": "3.10.6"
  },
  "orig_nbformat": 4,
  "vscode": {
   "interpreter": {
    "hash": "916dbcbb3f70747c44a77c7bcd40155683ae19c65e1c03b4aa3499c5328201f1"
   }
  }
 },
 "nbformat": 4,
 "nbformat_minor": 2
}
