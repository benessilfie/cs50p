{
 "cells": [
  {
   "cell_type": "markdown",
   "metadata": {},
   "source": [
    "# Week8: Regular Expressions\n",
    "\n",
    "— _CS50’s Introduction to Programming with Python_"
   ]
  },
  {
   "cell_type": "markdown",
   "metadata": {},
   "source": [
    "### Regular Expressions\n",
    "\n",
    "Regular expressions are a powerful tool for matching patterns in text. They are a domain-specific language for describing patterns in text. Regular expressions are a language unto themselves, and they are not specific to Python. They are used in many programming languages, and in many applications.\n",
    "\n",
    "They are used in text editors, word processors, and other applications to find and replace text, in compilers and interpreters to find and replace patterns in source code and in search engines to find and replace patterns in web pages. "
   ]
  },
  {
   "cell_type": "markdown",
   "metadata": {},
   "source": [
    "They are also used to validate user input such as email addresses, phone numbers, and credit card numbers. As well as to parse text, and to extract information from text."
   ]
  },
  {
   "cell_type": "markdown",
   "metadata": {},
   "source": [
    "##### validate.py"
   ]
  },
  {
   "cell_type": "code",
   "execution_count": 1,
   "metadata": {},
   "outputs": [
    {
     "name": "stdout",
     "output_type": "stream",
     "text": [
      "Your email is valid\n"
     ]
    }
   ],
   "source": [
    "email = input(\"Enter your email: \").strip()\n",
    "\n",
    "if \"@\" in email:\n",
    "    print(\"Your email is valid\")\n",
    "else:\n",
    "    print(\"Your email is invalid\")"
   ]
  },
  {
   "cell_type": "code",
   "execution_count": 2,
   "metadata": {},
   "outputs": [
    {
     "name": "stdout",
     "output_type": "stream",
     "text": [
      "Your email is valid\n"
     ]
    }
   ],
   "source": [
    "email = input(\"Enter your email: \").strip()\n",
    "\n",
    "if \"@\" and \".\" in email:\n",
    "    print(\"Your email is valid\")\n",
    "else:\n",
    "    print(\"Your email is invalid\")"
   ]
  },
  {
   "cell_type": "code",
   "execution_count": null,
   "metadata": {},
   "outputs": [],
   "source": [
    "email = input(\"Enter your email: \").strip()\n",
    "\n",
    "username, domain = email.split(\"@\")\n",
    "\n",
    "if username and \".\" in domain:\n",
    "    print(\"Your email is valid\")\n",
    "else:\n",
    "    print(\"Your email is invalid\")"
   ]
  },
  {
   "cell_type": "code",
   "execution_count": null,
   "metadata": {},
   "outputs": [],
   "source": [
    "email = input(\"Enter your email: \").strip()\n",
    "\n",
    "username, domain = email.split(\"@\")\n",
    "\n",
    "if username and domain.endswith(\".edu\"):\n",
    "    print(\"Your email is valid\")\n",
    "else:\n",
    "    print(\"Your email is invalid\")"
   ]
  },
  {
   "cell_type": "markdown",
   "metadata": {},
   "source": [
    "### Uisng the re module"
   ]
  },
  {
   "cell_type": "code",
   "execution_count": 1,
   "metadata": {},
   "outputs": [
    {
     "name": "stdout",
     "output_type": "stream",
     "text": [
      "Your email is valid\n"
     ]
    }
   ],
   "source": [
    "import re\n",
    "\n",
    "email = input(\"Enter your email: \").strip()\n",
    "\n",
    "if re.search(\"@\", email):\n",
    "    print(\"Your email is valid\")\n",
    "else:\n",
    "    print(\"Your email is invalid\")"
   ]
  },
  {
   "cell_type": "markdown",
   "metadata": {},
   "source": [
    "The pattern you pass re.search() can take a lot of special symbols and characters. The most common ones are:\n",
    "\n",
    "* `.`: matches any character except a newline\n",
    "* `*`: matches zero or more repetitions of the preceding character\n",
    "* `+`: matches one or more repetitions of the preceding character\n",
    "* `?`: matches zero or one of the preceding character\n",
    "* `{n}`: matches exactly n of the preceding character\n",
    "* `{n,}`: matches n or more of the preceding character\n",
    "* `{,n}`: matches 0 to n of the preceding character\n",
    "* `{m}`: matches m repetitions\n",
    "* `{m,n}`: matches m to n repetitions\n",
    "* `[abc]`: matches any character between the brackets (such as a, b, or c)\n",
    "* `[^abc]`: matches any character that isn’t between the brackets\n",
    "* `\\d`: matches any decimal digit\n",
    "* `\\D`: matches any non-decimal digit characters\n",
    "* `\\w`: matches any alphanumeric character as well as the underscore\n",
    "* `\\W`: matches any non-alphanumeric character\n",
    "* `\\s`: matches any whitespace character\n",
    "* `\\S`: matches any non-whitespace character\n",
    "* `\\b`: matches the empty string between `\\w` and `\\W` characters\n",
    "* `\\B`: matches the empty string anywhere else\n",
    "* `A|B`: matches either A or B\n",
    "* `()`: matches a group of characters\n",
    "* `(?:)`: matches a group of characters without creating a capture group\n",
    "* `([])`: matches a set of characters\n",
    "* `[^]`: matches any character not in a set of characters"
   ]
  },
  {
   "cell_type": "code",
   "execution_count": null,
   "metadata": {},
   "outputs": [],
   "source": [
    "import re\n",
    "\n",
    "email = input(\"Enter your email: \").strip()\n",
    "\n",
    "#`.*` means give me something to the left and something to the right of the `@`\n",
    "if re.search(\".*@.*\", email):\n",
    "    print(\"Your email is valid\")\n",
    "else:\n",
    "    print(\"Your email is invalid\")"
   ]
  },
  {
   "cell_type": "markdown",
   "metadata": {},
   "source": [
    "Using this regex, the program will print valid even if you don't add anything after the `@` because the `*` means it can accept zero or more repetitions of the preceding character. so in this case if we want something to be required after the `@` we can use the `+` instead of the `*` which means it can accept one or more repetitions of the preceding character."
   ]
  },
  {
   "cell_type": "code",
   "execution_count": null,
   "metadata": {},
   "outputs": [],
   "source": [
    "import re\n",
    "\n",
    "email = input(\"Enter your email: \").strip()\n",
    "\n",
    "#`.+` means at least one character to the left and right of the `@` \n",
    "if re.search(\".+@.+\", email):\n",
    "    print(\"Your email is valid\")\n",
    "else:\n",
    "    print(\"Your email is invalid\")"
   ]
  },
  {
   "cell_type": "code",
   "execution_count": null,
   "metadata": {},
   "outputs": [],
   "source": [
    "import re\n",
    "\n",
    "email = input(\"Enter your email: \").strip()\n",
    "\n",
    "# using r before the string means it's a raw string indicating \n",
    "# that we don't want to escape any characters just the literal \"\\\" string\n",
    "if re.search(r\".+@.+\\.edu\", email):\n",
    "    print(\"Your email is valid\")\n",
    "else:\n",
    "    print(\"Your email is invalid\")"
   ]
  },
  {
   "cell_type": "markdown",
   "metadata": {},
   "source": [
    "in the context of a regular expression \n",
    "\n",
    "* `^`: matches the start of the string\n",
    "* `$`: matches the end of the string or just before the newline at the end of the string"
   ]
  },
  {
   "cell_type": "code",
   "execution_count": null,
   "metadata": {},
   "outputs": [],
   "source": [
    "import re\n",
    "\n",
    "email = input(\"Enter your email: \").strip()\n",
    "\n",
    "if re.search(r\"^.+@.+\\.edu$\", email):\n",
    "    print(\"Your email is valid\")\n",
    "else:\n",
    "    print(\"Your email is invalid\")"
   ]
  },
  {
   "cell_type": "markdown",
   "metadata": {},
   "source": [
    "You can use\n",
    "\n",
    "* `[]` to indicate a set of characters, so `[a-m]` will match any lowercase character from `a` to `m`.\n",
    "* `[^]` to indicate a set of characters you do not want to match, so `[^a-m]` will match any character that is not a lowercase character from `a` to `m`."
   ]
  },
  {
   "cell_type": "code",
   "execution_count": null,
   "metadata": {},
   "outputs": [],
   "source": [
    "import re\n",
    "\n",
    "email = input(\"Enter your email: \").strip()\n",
    "\n",
    "if re.search(r\"^[^@]+@[^@]+\\.edu$\", email):\n",
    "    print(\"Your email is valid\")\n",
    "else:\n",
    "    print(\"Your email is invalid\")"
   ]
  },
  {
   "cell_type": "markdown",
   "metadata": {},
   "source": [
    "This regex `^[^@]+@[^@]+\\.edu$` will match any string that starts with one or more characters that are not `@` followed by an `@` followed by one or more characters that is not `@` followed by a `.` and ends with `edu`."
   ]
  },
  {
   "cell_type": "code",
   "execution_count": null,
   "metadata": {},
   "outputs": [],
   "source": [
    "import re\n",
    "\n",
    "email = input(\"Enter your email: \").strip()\n",
    "\n",
    "if re.search(r\"^[a-zA-Z0-9_]+@[A-ZA-Z0-9_]+\\.edu$\", email):\n",
    "    print(\"Your email is valid\")\n",
    "else:\n",
    "    print(\"Your email is invalid\")"
   ]
  },
  {
   "cell_type": "code",
   "execution_count": null,
   "metadata": {},
   "outputs": [],
   "source": [
    "import re\n",
    "\n",
    "email = input(\"Enter your email: \").strip()\n",
    "\n",
    "if re.search(r\"^\\w+@\\w+\\.edu$\", email):\n",
    "    print(\"Your email is valid\")\n",
    "else:\n",
    "    print(\"Your email is invalid\")"
   ]
  },
  {
   "cell_type": "markdown",
   "metadata": {},
   "source": [
    "Using a flag in the re.search() function will change the way the regex is interpreted. The most common flags are:\n",
    "* `re.IGNORECASE`: ignores case\n",
    "* `re.MULTILINE`: treats the beginning and end of the string as the beginning and end of each line\n",
    "* `re.DOTALL`: makes the `.` special character match any character, including a newline\n",
    "* `re.VERBOSE`: ignores whitespace and comments inside the regular expression string\n",
    "* `re.ASCII`: makes several escapes like `\\w`, `\\b`, `\\s` match only on ASCII characters\n",
    "\n",
    ">_Read more about the re module [here](https://docs.python.org/3/library/re.html)._"
   ]
  },
  {
   "cell_type": "code",
   "execution_count": null,
   "metadata": {},
   "outputs": [],
   "source": [
    "import re\n",
    "\n",
    "email = input(\"Enter your email: \").strip()\n",
    "\n",
    "if re.search(r\"^\\w+@(\\w+\\.)?\\w+\\.edu$\", email, re.IGNORECASE):\n",
    "    print(\"Your email is valid\")\n",
    "else:\n",
    "    print(\"Your email is invalid\")"
   ]
  },
  {
   "cell_type": "markdown",
   "metadata": {},
   "source": [
    "##### format.py"
   ]
  },
  {
   "cell_type": "code",
   "execution_count": 3,
   "metadata": {},
   "outputs": [
    {
     "name": "stdout",
     "output_type": "stream",
     "text": [
      "Hello David Malan\n"
     ]
    }
   ],
   "source": [
    "name = input(\"What's your name? \").strip()\n",
    "\n",
    "if \",\" in name:\n",
    "    last, first = name.split(\", \")\n",
    "    name = f\"{first} {last}\"\n",
    "\n",
    "print(f\"Hello {name}\")"
   ]
  },
  {
   "cell_type": "code",
   "execution_count": null,
   "metadata": {},
   "outputs": [],
   "source": [
    "import re\n",
    "\n",
    "name = input(\"What's your name? \").strip()\n",
    "matches = re.search(r\"^(.+), (.+)$\", name)\n",
    "\n",
    "if matches:\n",
    "    last, first = matches.groups()\n",
    "    name = f\"{first} {last}\"\n",
    "\n",
    "print(f\"Hello, {name}\")"
   ]
  },
  {
   "cell_type": "code",
   "execution_count": null,
   "metadata": {},
   "outputs": [],
   "source": [
    "import re\n",
    "\n",
    "name = input(\"What's your name? \").strip()\n",
    "matches = re.search(r\"^(.+), (.+)$\", name)\n",
    "\n",
    "if matches:\n",
    "    last = matches.group(1)\n",
    "    first = matches.group(2)\n",
    "    name = f\"{first} {last}\"\n",
    "\n",
    "print(f\"Hello, {name}\")"
   ]
  },
  {
   "cell_type": "code",
   "execution_count": null,
   "metadata": {},
   "outputs": [],
   "source": [
    "import re\n",
    "\n",
    "name = input(\"What's your name? \").strip()\n",
    "matches = re.search(r\"^(.+), *(.+)$\", name)\n",
    "\n",
    "if matches:\n",
    "    name = matches.group(2) + \" \" + matches.group(1)\n",
    "\n",
    "print(f\"Hello, {name}\")"
   ]
  },
  {
   "cell_type": "code",
   "execution_count": null,
   "metadata": {},
   "outputs": [],
   "source": [
    "import re\n",
    "\n",
    "name = input(\"What's your name? \").strip()\n",
    "\n",
    "if matches := re.search(r\"^(.+), *(.+)$\", name):\n",
    "    name = matches.group(2) + \" \" + matches.group(1)\n",
    "\n",
    "print(f\"Hello, {name}\")"
   ]
  },
  {
   "cell_type": "markdown",
   "metadata": {},
   "source": [
    "`:=` The walrus operator assigns values to variables as part of a larger expression. It was introduced in Python 3.8.\n",
    "\n",
    "It is used if you want to assign something from right to left and ask an `if` or `elif` question on the same line"
   ]
  },
  {
   "cell_type": "markdown",
   "metadata": {},
   "source": [
    "##### twitter.py"
   ]
  },
  {
   "cell_type": "code",
   "execution_count": null,
   "metadata": {},
   "outputs": [],
   "source": [
    "url = input(\"URL: \").strip()\n",
    "\n",
    "username = url.replace(\"https://twitter.com/\", \"\")\n",
    "print(f\"Username: {username}\")"
   ]
  },
  {
   "cell_type": "code",
   "execution_count": null,
   "metadata": {},
   "outputs": [],
   "source": [
    "url = input(\"URL: \").strip()\n",
    "\n",
    "username = url.removeprefix(\"https://twitter.com/\")\n",
    "print(f\"Username: {username}\")"
   ]
  },
  {
   "cell_type": "code",
   "execution_count": null,
   "metadata": {},
   "outputs": [],
   "source": [
    "import re\n",
    "\n",
    "url = input(\"URL: \").strip()\n",
    "\n",
    "username = re.sub(r\"https://twitter.com/\", \"\", url)\n",
    "\n",
    "print(f\"Username: {username}\")"
   ]
  },
  {
   "cell_type": "code",
   "execution_count": null,
   "metadata": {},
   "outputs": [],
   "source": [
    "import re\n",
    "\n",
    "url = input(\"URL: \").strip()\n",
    "\n",
    "username = re.sub(r\"^(https?://)?(www\\.)?twitter\\.com/\", \"\", url)\n",
    "\n",
    "print(f\"Username: {username}\")"
   ]
  },
  {
   "cell_type": "code",
   "execution_count": null,
   "metadata": {},
   "outputs": [],
   "source": [
    "import re\n",
    "\n",
    "url = input(\"URL: \").strip()\n",
    "\n",
    "if matches := re.search(r\"^(https?://)?(www\\.)?twitter\\.com/(.+)$\", url, re.IGNORECASE):\n",
    "    print(f\"Username:\", matches.group(2))"
   ]
  },
  {
   "cell_type": "code",
   "execution_count": null,
   "metadata": {},
   "outputs": [],
   "source": [
    "import re\n",
    "\n",
    "url = input(\"URL: \").strip()\n",
    "\n",
    "if matches := re.search(r\"^(https?://)?(?:www\\.)?twitter\\.com/(.+)$\", url, re.IGNORECASE):\n",
    "    print(f\"Username:\", matches.group(1))"
   ]
  },
  {
   "cell_type": "code",
   "execution_count": null,
   "metadata": {},
   "outputs": [],
   "source": [
    "import re\n",
    "\n",
    "url = input(\"URL: \").strip()\n",
    "\n",
    "if matches := re.search(r\"^(https?://)?(?:www\\.)?twitter\\.com/(\\w+)\", url, re.IGNORECASE):\n",
    "    print(f\"Username:\", matches.group(1))"
   ]
  }
 ],
 "metadata": {
  "kernelspec": {
   "display_name": "Python 3.10.6 64-bit",
   "language": "python",
   "name": "python3"
  },
  "language_info": {
   "codemirror_mode": {
    "name": "ipython",
    "version": 3
   },
   "file_extension": ".py",
   "mimetype": "text/x-python",
   "name": "python",
   "nbconvert_exporter": "python",
   "pygments_lexer": "ipython3",
   "version": "3.10.6"
  },
  "orig_nbformat": 4,
  "vscode": {
   "interpreter": {
    "hash": "916dbcbb3f70747c44a77c7bcd40155683ae19c65e1c03b4aa3499c5328201f1"
   }
  }
 },
 "nbformat": 4,
 "nbformat_minor": 2
}
